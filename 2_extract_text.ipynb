{
 "cells": [
  {
   "cell_type": "markdown",
   "id": "89a3e08d-f730-447d-a4bb-dd8b4a4267be",
   "metadata": {},
   "source": [
    "# Extract the text from each page\n",
    "\n",
    "Now that we have separate images for the left and the right page, let's extract the text."
   ]
  },
  {
   "cell_type": "code",
   "execution_count": 1,
   "id": "59b2df23-95a0-4b62-b8bc-a87809043cb1",
   "metadata": {},
   "outputs": [],
   "source": [
    "from pathlib import Path\n",
    "from PIL import Image\n",
    "\n",
    "from matplotlib.pyplot import imshow\n",
    "import numpy as np\n",
    "\n",
    "%matplotlib inline\n",
    "\n",
    "from utilities import helper"
   ]
  },
  {
   "cell_type": "code",
   "execution_count": 2,
   "id": "47e8c335-d180-4e42-97fc-1f20c6dcdc49",
   "metadata": {},
   "outputs": [],
   "source": [
    "basepath = Path('./output/')\n",
    "input_path = basepath/'1_left_right'\n",
    "output_path = basepath/'2_text'"
   ]
  },
  {
   "cell_type": "code",
   "execution_count": 3,
   "id": "067efd26-c689-4f10-ae61-5eec4de70af2",
   "metadata": {},
   "outputs": [],
   "source": [
    "!mkdir -p {output_path}"
   ]
  },
  {
   "cell_type": "code",
   "execution_count": 4,
   "id": "9dd59701-baa9-4075-a11b-2fdb969ac561",
   "metadata": {},
   "outputs": [
    {
     "name": "stdout",
     "output_type": "stream",
     "text": [
      "Done!\n"
     ]
    }
   ],
   "source": [
    "helper.extract_text(images_path=input_path, \n",
    "                    output_path=output_path,\n",
    "                   )"
   ]
  },
  {
   "cell_type": "code",
   "execution_count": null,
   "id": "c4834cf5-4375-4b3b-9c73-be52c050cf83",
   "metadata": {},
   "outputs": [],
   "source": []
  }
 ],
 "metadata": {
  "kernelspec": {
   "display_name": "Python 3 (ipykernel)",
   "language": "python",
   "name": "python3"
  },
  "language_info": {
   "codemirror_mode": {
    "name": "ipython",
    "version": 3
   },
   "file_extension": ".py",
   "mimetype": "text/x-python",
   "name": "python",
   "nbconvert_exporter": "python",
   "pygments_lexer": "ipython3",
   "version": "3.10.10"
  }
 },
 "nbformat": 4,
 "nbformat_minor": 5
}
